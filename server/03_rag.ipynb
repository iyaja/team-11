{
 "cells": [
  {
   "cell_type": "markdown",
   "metadata": {},
   "source": [
    "# Part 1: Endangered Species"
   ]
  },
  {
   "cell_type": "code",
   "execution_count": 8,
   "metadata": {},
   "outputs": [],
   "source": [
    "import pandas as pd\n",
    "import openai\n",
    "import json\n",
    "import pymupdf4llm\n",
    "import pymupdf"
   ]
  },
  {
   "cell_type": "code",
   "execution_count": 9,
   "metadata": {},
   "outputs": [],
   "source": [
    "species = pd.read_csv(\"sources/species.csv\")"
   ]
  },
  {
   "cell_type": "code",
   "execution_count": 10,
   "metadata": {},
   "outputs": [
    {
     "data": {
      "text/html": [
       "<div>\n",
       "<style scoped>\n",
       "    .dataframe tbody tr th:only-of-type {\n",
       "        vertical-align: middle;\n",
       "    }\n",
       "\n",
       "    .dataframe tbody tr th {\n",
       "        vertical-align: top;\n",
       "    }\n",
       "\n",
       "    .dataframe thead th {\n",
       "        text-align: right;\n",
       "    }\n",
       "</style>\n",
       "<table border=\"1\" class=\"dataframe\">\n",
       "  <thead>\n",
       "    <tr style=\"text-align: right;\">\n",
       "      <th></th>\n",
       "      <th>Scientific Name</th>\n",
       "      <th>Common Name</th>\n",
       "      <th>Species Group</th>\n",
       "      <th>Federal Listing Status</th>\n",
       "      <th>Where Listed</th>\n",
       "    </tr>\n",
       "  </thead>\n",
       "  <tbody>\n",
       "    <tr>\n",
       "      <th>0</th>\n",
       "      <td>Acanthorutilus handlirschi</td>\n",
       "      <td>Cicek (minnow)</td>\n",
       "      <td>Fishes</td>\n",
       "      <td>Endangered</td>\n",
       "      <td>Wherever found</td>\n",
       "    </tr>\n",
       "    <tr>\n",
       "      <th>1</th>\n",
       "      <td>Accipiter fasciatus natalis</td>\n",
       "      <td>Christmas Island goshawk</td>\n",
       "      <td>Birds</td>\n",
       "      <td>Endangered</td>\n",
       "      <td>Wherever found</td>\n",
       "    </tr>\n",
       "    <tr>\n",
       "      <th>2</th>\n",
       "      <td>Accipiter francesii pusillus</td>\n",
       "      <td>Anjouan Island sparrowhawk</td>\n",
       "      <td>Birds</td>\n",
       "      <td>Endangered</td>\n",
       "      <td>Wherever found</td>\n",
       "    </tr>\n",
       "    <tr>\n",
       "      <th>3</th>\n",
       "      <td>Accipiter gentilis laingi</td>\n",
       "      <td>Queen Charlotte goshawk</td>\n",
       "      <td>Birds</td>\n",
       "      <td>Threatened</td>\n",
       "      <td>British Columbia, Canada</td>\n",
       "    </tr>\n",
       "    <tr>\n",
       "      <th>4</th>\n",
       "      <td>Accipiter striatus venator</td>\n",
       "      <td>Puerto Rican sharp-shinned hawk</td>\n",
       "      <td>Birds</td>\n",
       "      <td>Endangered</td>\n",
       "      <td>Wherever found</td>\n",
       "    </tr>\n",
       "    <tr>\n",
       "      <th>...</th>\n",
       "      <td>...</td>\n",
       "      <td>...</td>\n",
       "      <td>...</td>\n",
       "      <td>...</td>\n",
       "      <td>...</td>\n",
       "    </tr>\n",
       "    <tr>\n",
       "      <th>1500</th>\n",
       "      <td>Zapus hudsonius preblei</td>\n",
       "      <td>Preble's meadow jumping mouse</td>\n",
       "      <td>Mammals</td>\n",
       "      <td>Threatened</td>\n",
       "      <td>wherever found</td>\n",
       "    </tr>\n",
       "    <tr>\n",
       "      <th>1501</th>\n",
       "      <td>Zosterops albogularis</td>\n",
       "      <td>Norfolk Island white-eye</td>\n",
       "      <td>Birds</td>\n",
       "      <td>Endangered</td>\n",
       "      <td>Wherever found</td>\n",
       "    </tr>\n",
       "    <tr>\n",
       "      <th>1502</th>\n",
       "      <td>Zosterops modesta</td>\n",
       "      <td>Seychelles white-eye</td>\n",
       "      <td>Birds</td>\n",
       "      <td>Endangered</td>\n",
       "      <td>Wherever found</td>\n",
       "    </tr>\n",
       "    <tr>\n",
       "      <th>1503</th>\n",
       "      <td>Zosterops rotensis</td>\n",
       "      <td>Rota bridled white-eye</td>\n",
       "      <td>Birds</td>\n",
       "      <td>Endangered</td>\n",
       "      <td>Wherever found</td>\n",
       "    </tr>\n",
       "    <tr>\n",
       "      <th>1504</th>\n",
       "      <td>Zyzomys pedunculatus</td>\n",
       "      <td>Australian native mouse</td>\n",
       "      <td>Mammals</td>\n",
       "      <td>Endangered</td>\n",
       "      <td>Wherever found</td>\n",
       "    </tr>\n",
       "  </tbody>\n",
       "</table>\n",
       "<p>1505 rows × 5 columns</p>\n",
       "</div>"
      ],
      "text/plain": [
       "                   Scientific Name                      Common Name  \\\n",
       "0       Acanthorutilus handlirschi                   Cicek (minnow)   \n",
       "1      Accipiter fasciatus natalis         Christmas Island goshawk   \n",
       "2     Accipiter francesii pusillus       Anjouan Island sparrowhawk   \n",
       "3        Accipiter gentilis laingi          Queen Charlotte goshawk   \n",
       "4       Accipiter striatus venator  Puerto Rican sharp-shinned hawk   \n",
       "...                            ...                              ...   \n",
       "1500       Zapus hudsonius preblei    Preble's meadow jumping mouse   \n",
       "1501         Zosterops albogularis         Norfolk Island white-eye   \n",
       "1502             Zosterops modesta             Seychelles white-eye   \n",
       "1503            Zosterops rotensis           Rota bridled white-eye   \n",
       "1504          Zyzomys pedunculatus          Australian native mouse   \n",
       "\n",
       "     Species Group Federal Listing Status              Where Listed  \n",
       "0           Fishes             Endangered            Wherever found  \n",
       "1            Birds             Endangered            Wherever found  \n",
       "2            Birds             Endangered            Wherever found  \n",
       "3            Birds             Threatened  British Columbia, Canada  \n",
       "4            Birds             Endangered            Wherever found  \n",
       "...            ...                    ...                       ...  \n",
       "1500       Mammals             Threatened            wherever found  \n",
       "1501         Birds             Endangered            Wherever found  \n",
       "1502         Birds             Endangered            Wherever found  \n",
       "1503         Birds             Endangered            Wherever found  \n",
       "1504       Mammals             Endangered            Wherever found  \n",
       "\n",
       "[1505 rows x 5 columns]"
      ]
     },
     "execution_count": 10,
     "metadata": {},
     "output_type": "execute_result"
    }
   ],
   "source": [
    "species"
   ]
  },
  {
   "cell_type": "code",
   "execution_count": 11,
   "metadata": {},
   "outputs": [],
   "source": [
    "client = openai.Client()"
   ]
  },
  {
   "cell_type": "markdown",
   "metadata": {},
   "source": [
    "* Whether it has a reference to a section 7 consultation\n",
    "* Has a Biological Assessment"
   ]
  },
  {
   "cell_type": "code",
   "execution_count": 40,
   "metadata": {},
   "outputs": [],
   "source": [
    "def get_species_comments(doc, species):\n",
    "\n",
    "    ENDANGERED_SPECIES_ANALYSIS_PROMPT = f\"\"\"\n",
    "You are an expert legal analyst tasked with analyzing an Environmental Impact Statement (EIS) for a proposed development project.\n",
    "\n",
    "Here is the complete list of current endangered species in the United States:\n",
    "\n",
    "```csv\n",
    "{species.to_csv()}\n",
    "```\n",
    "\n",
    "Carefully read the document - the EIS may mention one or more of these endangered species. Identify ALL species from the list above mentioned in the EIS, and cite sections of the text that may pose increased risk or scrutiny for the project, specifically with reference to the following criteria:\n",
    "\n",
    "* Whether it has a reference to a section 7 consultation\n",
    "* Has a \"Biological Assessment\"\n",
    "* Additionally, if any other related species could be impacted by the proposed development, flag it for review, write a suggestion that the developer analyze, and inciting the specific details of that species from the table above.\n",
    "\n",
    "Respond with the following format:\n",
    "\n",
    "```json\n",
    "{{\n",
    "    \"comments\" : [\n",
    "        {{\n",
    "            \"quote\": \"Exact text quote from the document\",\n",
    "            \"comment\": \"Explanation for how the quoted text could introduce regulatory burden/risk, and what the the developer might need to consider to mitigate this risk.\",\n",
    "        }},\n",
    "        ...\n",
    "    ]\n",
    "}}\n",
    "```\n",
    "\n",
    "If no relevant text is found, return an empty list.\"\"\".strip()\n",
    "\n",
    "    resp = client.chat.completions.create(\n",
    "        model=\"gpt-4o\",\n",
    "        messages=[\n",
    "            {\"role\": \"system\", \"content\": ENDANGERED_SPECIES_ANALYSIS_PROMPT},\n",
    "            {\"role\": \"user\", \"content\": doc},\n",
    "        ],\n",
    "        response_format={\"type\": \"json_object\"}\n",
    "    )\n",
    "\n",
    "    resp_obj = json.loads(resp.choices[0].message.content)\n",
    "\n",
    "    return resp_obj"
   ]
  },
  {
   "cell_type": "code",
   "execution_count": 13,
   "metadata": {},
   "outputs": [],
   "source": [
    "# Step 1: Convert PDF to markdown\n",
    "PAGES_PER_CHUNK = 50\n",
    "page_count = pymupdf.open(\"sample.pdf\").page_count\n",
    "doc_chunks = [\n",
    "    pymupdf4llm.to_markdown(\"sample.pdf\", pages=range(i, i + PAGES_PER_CHUNK))\n",
    "    for i in range(0, page_count, PAGES_PER_CHUNK)\n",
    "]"
   ]
  },
  {
   "cell_type": "code",
   "execution_count": 46,
   "metadata": {},
   "outputs": [],
   "source": [
    "species_comments = get_species_comments(doc_chunks[0], species)"
   ]
  },
  {
   "cell_type": "code",
   "execution_count": 47,
   "metadata": {},
   "outputs": [
    {
     "data": {
      "text/plain": [
       "{'comments': [{'quote': 'The Project site does not support suitable habitat for Bi-State sage-grouse and it is not located within any mapped habitat identified in the 2016 Record of Decision and Land Use Plan Amendment for the Nevada and California Greater Sage Grouse Bi-State Distinct Population Segment in the Carson City and Tonopah Field Office... The USFWS raised concerns regarding yellow-billed cuckoo, a federally listed endangered species. This species has not been documented in or near the Project area during recent surveys, nor in the past. The species could, theoretically, migrate along the Walker River corridor. A single crossing of the gen-tie occurs over the Walker River. As such, this species is addressed in the Draft EIS to identify the means of avoidance.',\n",
       "   'comment': 'The text indicates a Section 7 consultation may be triggered due to the potential impact on the Yellow-billed Cuckoo, a listed endangered species, as well as concerns about the Bi-State sage-grouse. The developer should seek a formal Biological Assessment to document the presence or absence of these species within the project area to mitigate potential risks. Further, cooperation with USFWS to establish avoidance measures could be critical in mitigating regulatory risks.'}]}"
      ]
     },
     "execution_count": 47,
     "metadata": {},
     "output_type": "execute_result"
    }
   ],
   "source": [
    "species_comments"
   ]
  },
  {
   "cell_type": "code",
   "execution_count": 45,
   "metadata": {},
   "outputs": [
    {
     "data": {
      "text/plain": [
       "[{'quote': {'start': 28969,\n",
       "   'end': 30440,\n",
       "   'text': 'General wildlife; special status species; and threatened, endangered, and candidate species|Commenters raised questions about potential impacts to big game species, small mammals, and migratory birds, as well as loss of habitat and the loss of movement corridors through the solar site. Several commenters raised questions about potential impacts to Bi-State sage grouse, a special status species under consideration for listing as endangered or threatened under the Endangered Species Act (ESA). The Project site does not support suitable habitat for Bi-State sage-grouse and it is not located within any mapped habitat identified in the 2016 Record of Decision and Land Use Plan Amendment for the Nevada and California Greater Sage Grouse Bi-State Distinct Population Segment in the Carson City and Tonopah Field Office (2016 Bi-State Sage Grouse Plan Amendment) (BLM 2016). This species is addressed in the Draft EIS, given questions and concerns, despite it not being present nor having any potential to be directly or indirectly affected. The USFWS raised concerns regarding yellow-billed cuckoo, a federally listed endangered species. This species has not been documented in or near the Project area during recent surveys, nor in the past. The species could, theoretically, migrate along the Walker River corridor. A single crossing of the gen-tie occurs over the Walker River. As such, this species is addressed in the Draft EIS to identify the means of avoidance.'},\n",
       "  'comment': 'The mention of the yellow-billed cuckoo, a federally listed endangered species, prompts a need to ensure compliance with Section 7 consultation under the Endangered Species Act. Careful attention should be paid to the crossing over the Walker River to avoid spilling over into critical habitats. A Biological Assessment may be required to ensure no negative impact occurs, and USFWS guidance should be followed rigorously.'}]"
      ]
     },
     "execution_count": 45,
     "metadata": {},
     "output_type": "execute_result"
    }
   ],
   "source": [
    "find_comments_in_doc(doc_chunks[0], species_comments['comments'])"
   ]
  },
  {
   "cell_type": "code",
   "execution_count": 14,
   "metadata": {},
   "outputs": [],
   "source": [
    "resp = client.chat.completions.create(\n",
    "    model=\"gpt-4o\",\n",
    "    messages=[\n",
    "        {\"role\": \"system\", \"content\": ENDANGERED_SPECIES_ANALYSIS_PROMPT},\n",
    "        {\"role\": \"user\", \"content\": doc_chunks[0]},\n",
    "    ],\n",
    ")"
   ]
  },
  {
   "cell_type": "markdown",
   "metadata": {},
   "source": [
    "* Yellow-billed cuckoo (Coccyzus americanus)\n",
    "* Bi-State Sage-Grouse (Centrocercus minimus)"
   ]
  },
  {
   "cell_type": "code",
   "execution_count": 15,
   "metadata": {},
   "outputs": [
    {
     "name": "stdout",
     "output_type": "stream",
     "text": [
      "### Chapter 3 Affected Environment and Environmental Impacts\n",
      "\n",
      "#### 3.8 General Wildlife; Special Status Wildlife Species; and Threatened, Endangered, Proposed, and Candidate Species\n",
      "\n",
      "**3.8.1 Introduction**\n",
      "\n",
      "This section addresses potential impacts to wildlife habitat and wildlife species subject to federal, state, and local regulations and policies, including species listed as threatened or endangered under the Endangered Species Act (ESA). The analysis includes consideration of potential loss of habitat, fragmentation, and displacement of species due to the proposed development of the Libra Solar Project.\n",
      "\n",
      "**3.8.2 Special Status Wildlife Species**\n",
      "\n",
      "The U.S. Fish and Wildlife Service (USFWS), Nevada Department of Wildlife (NDOW), and other agencies identified several special status wildlife species with the potential to be affected by the proposed project. Table 3.8-1 provides a list of the species discussed in this report.\n",
      "\n",
      "**Table 3.8-1** **Special Status Wildlife Species Potentially Affected by the Project**\n",
      "\n",
      "| Species | Federal Listing Status | Presence in Project Area |\n",
      "|---------|-----------------------|--------------------------|\n",
      "| Yellow-billed cuckoo (Coccyzus americanus) | Endangered | Potential migratory corridor along Walker River. |\n",
      "| Bi-State sage-grouse (Centrocercus urophasianus) | Candidate | Not present within the project site; however, addressed due to public concern. |\n",
      "\n",
      "**3.8.3 Potential Direct and Indirect Effects**\n",
      "\n",
      "**3.8.3.1 Yellow-Billed Cuckoo**\n",
      "\n",
      "The yellow-billed cuckoo, a federally listed endangered species, has not been documented in or near the project area during recent surveys. However, the species could theoretically migrate along the Walker River corridor, which includes a single crossing of the generation-tie (gen-tie) line. As an endangered species, the presence and potential impacts to the yellow-billed cuckoo must be carefully evaluated to ensure compliance with the ESA.\n",
      "\n",
      "**Text from the EIS:**\n",
      "\n",
      "\"The USFWS raised concerns regarding the yellow-billed cuckoo, a federally listed endangered species. This species has not been documented in or near the Project area during recent surveys, nor in the past. The species could, theoretically, migrate along the Walker River corridor. A single crossing of the gen-tie occurs over the Walker River. As such, this species is addressed in the Draft EIS to identify the means of avoidance.\"\n",
      "\n",
      "*Impact Summary:*\n",
      "\n",
      "Potential impacts to this species are minimized by the limited crossing of the Walker River and mitigation measures described in Section 3.8.4.2. Mitigation measures include timing construction activities to avoid periods when the species is likely to be present and establishing exclusion buffers around sensitive habitats.\n",
      "\n",
      "**3.8.3.2 Bi-State Sage-Grouse**\n",
      "\n",
      "Although the Bi-State sage-grouse is not currently listed as endangered or threatened, it is a candidate species under consideration for such listing. Public commenters expressed concerns about potential impacts to this species. The project site does not support suitable habitat for the Bi-State sage-grouse and is not located within any mapped habitat identified in the 2016 Record of Decision and Land Use Plan Amendment for the Nevada and California Greater Sage Grouse Bi-State Distinct Population Segment. To address public concerns and provide thorough analysis, the Draft EIS includes discussion on the Bi-State sage-grouse.\n",
      "\n",
      "**Text from the EIS:**\n",
      "\n",
      "\"Several commenters raised questions about potential impacts to Bi-State sage-grouse, a special status species under consideration for listing as endangered or threatened under the Endangered Species Act (ESA). The Project site does not support suitable habitat for Bi-State sage-grouse, and it is not located within any mapped habitat identified in the 2016 Record of Decision and Land Use Plan Amendment for the Nevada and California Greater Sage Grouse Bi-State Distinct Population Segment in the Carson City and Tonopah Field Office (2016 Bi-State Sage Grouse Plan Amendment). This species is addressed in the Draft EIS, given questions and concerns, despite it not being present nor having any potential to be directly or indirectly affected.\"\n",
      "\n",
      "*Impact Summary:*\n",
      "\n",
      "No direct or indirect impacts are anticipated to Bi-State sage-grouse due to the absence of suitable habitat and the species' non-presence within the project site. The gen-tie alignment avoids critical habitats and includes mitigation measures to protect sensitive environmental resources as detailed in Section 3.8.4.3.\n",
      "\n",
      "**3.8.4 Mitigation Measures**\n",
      "\n",
      "Mitigation measures to protect special status species, including endangered species, are critical to ensure compliance with federal and state regulations and to minimize potential adverse effects. Specific measures for yellow-billed cuckoo include:\n",
      "\n",
      "**Section 3.8.4.2 Yellow-Billed Cuckoo Mitigation:**\n",
      "- Timing construction to avoid the migratory period.\n",
      "- Establishing exclusion zones to protect sensitive areas during construction.\n",
      "\n",
      "For Bi-State sage-grouse, general considerations include ensuring alternative routes and methods to minimize potential disturbances, even though direct impacts are not anticipated.\n",
      "\n",
      "**Conclusion**\n",
      "\n",
      "The proposed Libra Solar Project includes comprehensive consideration of potential impacts to wildlife, specifically addressing endangered and special status species. The Draft EIS acknowledges the legislative and regulatory framework governing such species and incorporates mitigation measures designed to avoid and minimize impacts. The findings suggest that while potential presence exists for species like the yellow-billed cuckoo, proactive measures will mitigate adverse effects, and the Bi-State sage-grouse does not show any immediate risk due to habitat absence. This approach ensures compliance with the ESA and other relevant regulations, further supported by interagency coordination and public comments.\n"
     ]
    }
   ],
   "source": [
    "print(resp.choices[0].message.content)"
   ]
  },
  {
   "cell_type": "markdown",
   "metadata": {},
   "source": [
    "# National Historic Sites"
   ]
  },
  {
   "cell_type": "code",
   "execution_count": 18,
   "metadata": {},
   "outputs": [],
   "source": [
    "sites = pd.read_excel(\"sources/sites.xlsx\")"
   ]
  },
  {
   "cell_type": "code",
   "execution_count": 19,
   "metadata": {},
   "outputs": [
    {
     "data": {
      "text/plain": [
       "Index(['Ref#', 'Property Name', 'State', 'County', 'City ', 'Street & Number',\n",
       "       'Status', 'Request Type', 'Status Date', 'Restricted Address',\n",
       "       'Area of Significance', 'Category of Property', 'External Link',\n",
       "       'Level of Significance - International',\n",
       "       'Level of Significance - Local', 'Level of Significance - National',\n",
       "       'Level of Significance - Not Indicated',\n",
       "       'Level of Significance - State', 'Listed Date',\n",
       "       'Name of Multiple Property Listing', 'NHL Designated Date',\n",
       "       'Other Names', 'Park Name', 'Property ID'],\n",
       "      dtype='object')"
      ]
     },
     "execution_count": 19,
     "metadata": {},
     "output_type": "execute_result"
    }
   ],
   "source": [
    "sites.columns"
   ]
  },
  {
   "cell_type": "code",
   "execution_count": 20,
   "metadata": {},
   "outputs": [],
   "source": [
    "all_states = \"\\n\".join(map(str, sites['State'].unique().tolist())) \n",
    "all_counties = \"\\n\".join(map(str, sites['County'].unique().tolist()))\n",
    "all_cities = \"\\n\".join(map(str, sites['City '].unique().tolist()))"
   ]
  },
  {
   "cell_type": "code",
   "execution_count": 21,
   "metadata": {},
   "outputs": [
    {
     "data": {
      "text/plain": [
       "(624, 15766, 157233)"
      ]
     },
     "execution_count": 21,
     "metadata": {},
     "output_type": "execute_result"
    }
   ],
   "source": [
    "len(all_states), len(all_counties), len(all_cities)"
   ]
  },
  {
   "cell_type": "markdown",
   "metadata": {},
   "source": [
    "* Higher risk if sites mentioned at all\n",
    "* If sites are mentioned, are you doing the right thing?\n",
    "* Mentions of section 106 of historic preservation act\n",
    "* If the site is mentioned, did they also mention State historic preservation officers, tribal historic preservation officers."
   ]
  },
  {
   "cell_type": "code",
   "execution_count": 22,
   "metadata": {},
   "outputs": [],
   "source": [
    "def get_region(doc_chunk):\n",
    "\n",
    "    LOCATION_SEARCH_PROMPT = f\"\"\"\n",
    "The following is a list of cities, counties, and states in the United States:\n",
    "\n",
    "States:\n",
    "-------\n",
    "\n",
    "{all_states}\n",
    "\n",
    "Counties:\n",
    "---------\n",
    "\n",
    "{all_counties}\n",
    "\n",
    "Cities:\n",
    "-------\n",
    "\n",
    "{all_cities}\n",
    "\n",
    "You will be provided with an Environmental Impact Statement (EIS) for a proposed development project. Identify the states, counties, and cities relevant to this project. Return your response in the following JSON format:\n",
    "\n",
    "```json\n",
    "{{\n",
    "    \"states\": [\"\"],\n",
    "    \"counties\": [\"\"],\n",
    "    \"cities\": [\"\"]\n",
    "}}\n",
    "```\n",
    "\n",
    "DO NOT output any other information or text. If the EIS does not mention a state, county, or city, output an empty list for that field.\n",
    "\"\"\".strip()\n",
    "    # First, find the state from the list of states\n",
    "    resp = client.chat.completions.create(\n",
    "        model=\"gpt-4o\",\n",
    "        messages=[\n",
    "            {\n",
    "                \"role\": \"system\",\n",
    "                \"content\": LOCATION_SEARCH_PROMPT,\n",
    "            },\n",
    "            {\"role\": \"user\", \"content\": doc_chunk},\n",
    "        ],\n",
    "        response_format={\"type\": \"json_object\"},\n",
    "    )\n",
    "\n",
    "    return json.loads(resp.choices[0].message.content)"
   ]
  },
  {
   "cell_type": "code",
   "execution_count": 27,
   "metadata": {},
   "outputs": [],
   "source": [
    "def get_historic_sites_comments(doc_chunk):\n",
    "\n",
    "    locations = get_region(doc_chunks[0])\n",
    "\n",
    "    # Filter for states, counties, and cities mentioned in the document\n",
    "    relevant_sites = sites[\n",
    "        sites[\"State\"].isin(locations[\"states\"])\n",
    "        & sites[\"County\"].isin(locations[\"counties\"])\n",
    "        & sites[\"City \"].isin(locations[\"cities\"])\n",
    "    ]\n",
    "\n",
    "    HISTORIC_SITES_COMMENTS_PROMPT = f\"\"\"\n",
    "You are an expert legal analyst tasked with analyzing an Environmental Impact Statement (EIS) for a proposed development project.\n",
    "\n",
    "Here is a list of sites of national historic importance in the United States located in the region of the proposed development project:\n",
    "\n",
    "{relevant_sites.to_markdown()}\n",
    "\n",
    "Carefully read the document - the EIS may mention one or more of these sites. If it does, cite the specific text and comment on how it might contribute to a greater risk, specifically in relation to the following:\n",
    "\n",
    "* If sites are mentioned, are they being handled correctly?\n",
    "* Look for mentions of section 106 of historic preservation act.\n",
    "* If sites are mentioned, are state historic preservation officers (SHPOs) or tribal historic preservation officers (THPOs) mentioned?\n",
    "\n",
    "Respond with the following format:\n",
    "\n",
    "```json\n",
    "{{\n",
    "    \"comments\" : [\n",
    "        {{\n",
    "            \"quote\": \"Exact text quote from the document\",\n",
    "            \"comment\": \"Explanation for how the quoted text could introduce regulatory burden/risk, and what the the developer might need to consider to mitigate this risk.\",\n",
    "        }},\n",
    "        ...\n",
    "    ]\n",
    "}}\n",
    "```\n",
    "\n",
    "If no relevant text is found, return an empty list.\"\"\".strip()\n",
    "\n",
    "    resp = client.chat.completions.create(\n",
    "        model=\"gpt-4o\",\n",
    "        messages=[\n",
    "            {\"role\": \"system\", \"content\": HISTORIC_SITES_COMMENTS_PROMPT},\n",
    "            {\"role\": \"user\", \"content\": doc_chunk},\n",
    "        ],\n",
    "        response_format={\"type\": \"json_object\"},\n",
    "    )\n",
    "\n",
    "    resp_obj = json.loads(resp.choices[0].message.content)\n",
    "\n",
    "    return resp_obj"
   ]
  },
  {
   "cell_type": "code",
   "execution_count": 28,
   "metadata": {},
   "outputs": [],
   "source": [
    "site_comments = get_historic_sites_comments(doc_chunks[0])"
   ]
  },
  {
   "cell_type": "code",
   "execution_count": 29,
   "metadata": {},
   "outputs": [
    {
     "name": "stdout",
     "output_type": "stream",
     "text": [
      "{'comments': [{'quote': 'The BLM is conducting on-going government-to-government consultation with Bridgeport Indian Colony, Fallon Paiute-Shoshone Tribe, Pyramid Lake Paiute Tribe, Reno-Sparks Indian Colony, Walker River Paiute Tribe, Washoe Tribe of Nevada and California, Yerington Paiute Tribe, and Yomba Shoshone Tribe.', 'comment': \"The continued consultation with local tribes represents a correct and thorough adherence to required protocols for involving Tribal Historic Preservation Officers (THPOs) under Section 106 of the NHPA. This reduces the risk of overlooking tribes' cultural resources but any oversight can lead to project delays or legal disputes.\"}, {'quote': 'The BLM has identified potential impacts to cultural resources in this Draft EIS and is continuing discussions with Tribes through formal and informal consultation to ensure that all concerns are considered in proposed mitigation.', 'comment': 'This approach helps in addressing concerns raised by tribes about the potential impacts on cultural resources. It indicates that the BLM is making efforts to comply with Section 106 of the NHPA. However, it is critical that these discussions are well-documented and any agreements or mitigation measures are thoroughly implemented to avoid future conflicts.'}, {'quote': 'The BLM initiated Section 106 consultation with the Nevada State Historic Preservation Office (SHPO) and the Advisory Council of Historic Preservation (ACHP) on April 14, 2022. This Section 106 consultation process is integrated with the NEPA process for the Project', 'comment': 'The initiation of Section 106 consultation with the SHPO and ACHP indicates compliance with federal regulations for considering the effect of the project on historic properties. Proper integration with the NEPA process minimizes the risk of regulatory oversights and potential delays.'}, {'quote': 'Section 106 of the NHPA requires that all federal agencies consider the effect of undertakings they conduct, license, approve, or fund on historic properties.', 'comment': 'This text underscores the importance of adhering to Section 106, which mandates agencies to consider the impact of their projects on historic properties. Compliance reduces the risk of legal challenges and project delays.'}, {'quote': 'The Project site is in Mineral County and Lyon County, Nevada, approximately 55 miles southeast of the Reno metropolitan area and 11 miles southeast of the town of Yerington.', 'comment': 'Given that the proposed development is near Yerington, which has several listed historic sites, it is imperative that all historic sites, including the I.O.O.F. Building, Mason Valley, and others listed in the area, be considered during the Section 106 consultation process. This ensures that the development does not adversely impact these important sites.'}]}\n"
     ]
    }
   ],
   "source": [
    "print(site_comments)"
   ]
  },
  {
   "cell_type": "code",
   "execution_count": 31,
   "metadata": {},
   "outputs": [],
   "source": [
    "from comments import find_comments_in_doc"
   ]
  },
  {
   "cell_type": "code",
   "execution_count": 35,
   "metadata": {},
   "outputs": [
    {
     "data": {
      "text/plain": [
       "[{'quote': 'The BLM is conducting on-going government-to-government consultation with Bridgeport Indian Colony, Fallon Paiute-Shoshone Tribe, Pyramid Lake Paiute Tribe, Reno-Sparks Indian Colony, Walker River Paiute Tribe, Washoe Tribe of Nevada and California, Yerington Paiute Tribe, and Yomba Shoshone Tribe.',\n",
       "  'comment': \"The continued consultation with local tribes represents a correct and thorough adherence to required protocols for involving Tribal Historic Preservation Officers (THPOs) under Section 106 of the NHPA. This reduces the risk of overlooking tribes' cultural resources but any oversight can lead to project delays or legal disputes.\"},\n",
       " {'quote': 'The BLM has identified potential impacts to cultural resources in this Draft EIS and is continuing discussions with Tribes through formal and informal consultation to ensure that all concerns are considered in proposed mitigation.',\n",
       "  'comment': 'This approach helps in addressing concerns raised by tribes about the potential impacts on cultural resources. It indicates that the BLM is making efforts to comply with Section 106 of the NHPA. However, it is critical that these discussions are well-documented and any agreements or mitigation measures are thoroughly implemented to avoid future conflicts.'},\n",
       " {'quote': 'The BLM initiated Section 106 consultation with the Nevada State Historic Preservation Office (SHPO) and the Advisory Council of Historic Preservation (ACHP) on April 14, 2022. This Section 106 consultation process is integrated with the NEPA process for the Project',\n",
       "  'comment': 'The initiation of Section 106 consultation with the SHPO and ACHP indicates compliance with federal regulations for considering the effect of the project on historic properties. Proper integration with the NEPA process minimizes the risk of regulatory oversights and potential delays.'},\n",
       " {'quote': 'Section 106 of the NHPA requires that all federal agencies consider the effect of undertakings they conduct, license, approve, or fund on historic properties.',\n",
       "  'comment': 'This text underscores the importance of adhering to Section 106, which mandates agencies to consider the impact of their projects on historic properties. Compliance reduces the risk of legal challenges and project delays.'},\n",
       " {'quote': 'The Project site is in Mineral County and Lyon County, Nevada, approximately 55 miles southeast of the Reno metropolitan area and 11 miles southeast of the town of Yerington.',\n",
       "  'comment': 'Given that the proposed development is near Yerington, which has several listed historic sites, it is imperative that all historic sites, including the I.O.O.F. Building, Mason Valley, and others listed in the area, be considered during the Section 106 consultation process. This ensures that the development does not adversely impact these important sites.'}]"
      ]
     },
     "execution_count": 35,
     "metadata": {},
     "output_type": "execute_result"
    }
   ],
   "source": []
  },
  {
   "cell_type": "code",
   "execution_count": 36,
   "metadata": {},
   "outputs": [
    {
     "data": {
      "text/plain": [
       "[{'quote': {'start': 23737,\n",
       "   'end': 24036,\n",
       "   'text': 'The BLM is conducting on-going government-to-government consultation with Bridgeport Indian Colony,\\nFallon Paiute-Shoshone Tribe, Pyramid Lake Paiute Tribe, Reno-Sparks Indian Colony, Walker River Paiute\\nTribe, Washoe Tribe of Nevada and California, Yerington Paiute Tribe, and Yomba Shoshone Tribe.'},\n",
       "  'comment': \"The continued consultation with local tribes represents a correct and thorough adherence to required protocols for involving Tribal Historic Preservation Officers (THPOs) under Section 106 of the NHPA. This reduces the risk of overlooking tribes' cultural resources but any oversight can lead to project delays or legal disputes.\"},\n",
       " {'quote': {'start': 25140,\n",
       "   'end': 25370,\n",
       "   'text': 'The BLM has identified potential impacts to cultural resources in this Draft EIS and is continuing discussions\\nwith Tribes through formal and informal consultation to ensure that all concerns are considered in proposed\\nmitigation.'},\n",
       "  'comment': 'This approach helps in addressing concerns raised by tribes about the potential impacts on cultural resources. It indicates that the BLM is making efforts to comply with Section 106 of the NHPA. However, it is critical that these discussions are well-documented and any agreements or mitigation measures are thoroughly implemented to avoid future conflicts.'},\n",
       " {'quote': {'start': 25841,\n",
       "   'end': 26107,\n",
       "   'text': 'The BLM initiated Section 106 consultation\\nwith the Nevada State Historic Preservation Office (SHPO) and the Advisory Council of Historic Preservation\\n(ACHP) on April 14, 2022. This Section 106 consultation process is integrated with the NEPA process for the\\nProject'},\n",
       "  'comment': 'The initiation of Section 106 consultation with the SHPO and ACHP indicates compliance with federal regulations for considering the effect of the project on historic properties. Proper integration with the NEPA process minimizes the risk of regulatory oversights and potential delays.'},\n",
       " {'quote': {'start': 25453,\n",
       "   'end': 25611,\n",
       "   'text': 'Section 106 of the NHPA requires that all federal agencies consider the effect of undertakings they conduct,\\nlicense, approve, or fund on historic properties.'},\n",
       "  'comment': 'This text underscores the importance of adhering to Section 106, which mandates agencies to consider the impact of their projects on historic properties. Compliance reduces the risk of legal challenges and project delays.'},\n",
       " {'quote': {'start': 1512,\n",
       "   'end': 1686,\n",
       "   'text': 'The Project site is in Mineral County and Lyon County,\\nNevada, approximately 55 miles southeast of the Reno metropolitan area and 11 miles southeast of the\\ntown of Yerington.'},\n",
       "  'comment': 'Given that the proposed development is near Yerington, which has several listed historic sites, it is imperative that all historic sites, including the I.O.O.F. Building, Mason Valley, and others listed in the area, be considered during the Section 106 consultation process. This ensures that the development does not adversely impact these important sites.'}]"
      ]
     },
     "execution_count": 36,
     "metadata": {},
     "output_type": "execute_result"
    }
   ],
   "source": [
    "find_comments_in_doc(doc_chunks[0], site_comments['comments'])"
   ]
  },
  {
   "cell_type": "markdown",
   "metadata": {},
   "source": [
    "# Legal Action Comments"
   ]
  },
  {
   "cell_type": "code",
   "execution_count": 70,
   "metadata": {},
   "outputs": [],
   "source": [
    "def get_legal_comments(doc):\n",
    "\n",
    "    LEGAL_ACTION_PROMPT = \"\"\"\n",
    "You are an expert legal analyst tasked with analyzing an Environmental Impact Statement (EIS) for a proposed development project.\n",
    "\n",
    "Carefully read the document - the EIS may include a section on public comments where legal action is explicitly mentioned or threatened. If any such comments exist, check if they have been addressed elsewhere in the document.\n",
    "\n",
    "Respond with the following format:\n",
    "\n",
    "```json\n",
    "{\n",
    "    \"comments\" : [\n",
    "        {\n",
    "            \"quote\": \"Exact text quote from the document\",\n",
    "            \"comment\": \"Explanation for how the quoted text could introduce regulatory burden/risk, and what the the developer might need to consider to mitigate this risk.\",\n",
    "        },\n",
    "        ...\n",
    "    ]\n",
    "}\n",
    "```\n",
    "\n",
    "DO NOT return any comments where EXPLICIT legal action is not threatened.\"\"\".strip()\n",
    "\n",
    "    resp = client.chat.completions.create(\n",
    "        model=\"gpt-4o\",\n",
    "        messages=[\n",
    "            {\"role\": \"system\", \"content\": LEGAL_ACTION_PROMPT},\n",
    "            {\"role\": \"user\", \"content\": doc},\n",
    "        ],\n",
    "        response_format={\"type\": \"json_object\"},\n",
    "    )\n",
    "\n",
    "    resp_obj = json.loads(resp.choices[0].message.content)\n",
    "\n",
    "    return resp_obj"
   ]
  },
  {
   "cell_type": "code",
   "execution_count": 71,
   "metadata": {},
   "outputs": [
    {
     "data": {
      "text/plain": [
       "6"
      ]
     },
     "execution_count": 71,
     "metadata": {},
     "output_type": "execute_result"
    }
   ],
   "source": [
    "len(doc_chunks)"
   ]
  },
  {
   "cell_type": "code",
   "execution_count": 72,
   "metadata": {},
   "outputs": [],
   "source": [
    "legal_comments = get_legal_comments(doc_chunks[5])"
   ]
  },
  {
   "cell_type": "code",
   "execution_count": 73,
   "metadata": {},
   "outputs": [
    {
     "data": {
      "text/plain": [
       "{'comments': [{'quote': 'Localized pressure on short-term rental housing would be greater in Yerington and the immediate vicinity, where some of the EJ communities of concern were identified. Communities identified as EJ low-income communities of concern such as Fallon, Silver Springs, and Stagecoach may also experience increased pressures on short-term rental housing supplies, which could put upward pressure on rental rates.',\n",
       "   'comment': 'This situation could lead to legal challenges related to fair housing practices and violations of community rights. Developers need to carefully monitor and engage with local housing authorities to ensure adequate housing availability and affordability. They might need to contribute to or facilitate the development of additional housing or provide subsidies for affected populations to mitigate these risks.'},\n",
       "  {'quote': 'EJ communities of concern could experience disproportionate adverse impacts to human quality of life from construction worker travel.',\n",
       "   'comment': 'This quote indicates the risk of litigation based on allegations of negative impacts on quality of life for EJ (Environmental Justice) communities. Developers should conduct thorough impact assessments and implement robust mitigation strategies such as traffic management plans, noise and dust control measures, and community engagement initiatives to address and alleviate these concerns. Continuous monitoring and responsive adjustments to these plans may also be necessary.'}]}"
      ]
     },
     "execution_count": 73,
     "metadata": {},
     "output_type": "execute_result"
    }
   ],
   "source": [
    "legal_comments"
   ]
  },
  {
   "cell_type": "code",
   "execution_count": 64,
   "metadata": {},
   "outputs": [
    {
     "data": {
      "text/plain": [
       "[]"
      ]
     },
     "execution_count": 64,
     "metadata": {},
     "output_type": "execute_result"
    }
   ],
   "source": [
    "find_comments_in_doc(doc_chunks[4], legal_comments['comments'])"
   ]
  },
  {
   "cell_type": "markdown",
   "metadata": {},
   "source": [
    "# Public Comments "
   ]
  },
  {
   "cell_type": "code",
   "execution_count": null,
   "metadata": {},
   "outputs": [],
   "source": [
    "def get_legal_comments(doc):\n",
    "\n",
    "    LEGAL_ACTION_PROMPT = \"\"\"\n",
    "You are a public relations expert tasked with analyzing an Environmental Impact Statement (EIS) for a proposed development project.\n",
    "\n",
    "Carefully read the document - the EIS may include a section with comments from the general public on their opinions of the project. \n",
    "\n",
    "Respond with the following format:\n",
    "\n",
    "```json\n",
    "{\n",
    "    \"comments\" : [\n",
    "        {\n",
    "            \"quote\": \"Exact text quote from the document\",\n",
    "            \"comment\": \"Explanation for how the quoted text could introduce regulatory burden/risk, and what the the developer might need to consider to mitigate this risk.\",\n",
    "        },\n",
    "        ...\n",
    "    ]\n",
    "}\n",
    "```\n",
    "\n",
    "DO NOT return any comments where EXPLICIT legal action is not threatened.\"\"\".strip()\n",
    "\n",
    "    resp = client.chat.completions.create(\n",
    "        model=\"gpt-4o\",\n",
    "        messages=[\n",
    "            {\"role\": \"system\", \"content\": LEGAL_ACTION_PROMPT},\n",
    "            {\"role\": \"user\", \"content\": doc},\n",
    "        ],\n",
    "        response_format={\"type\": \"json_object\"},\n",
    "    )\n",
    "\n",
    "    resp_obj = json.loads(resp.choices[0].message.content)\n",
    "\n",
    "    return resp_obj"
   ]
  }
 ],
 "metadata": {
  "kernelspec": {
   "display_name": "base",
   "language": "python",
   "name": "python3"
  },
  "language_info": {
   "codemirror_mode": {
    "name": "ipython",
    "version": 3
   },
   "file_extension": ".py",
   "mimetype": "text/x-python",
   "name": "python",
   "nbconvert_exporter": "python",
   "pygments_lexer": "ipython3",
   "version": "3.9.15"
  }
 },
 "nbformat": 4,
 "nbformat_minor": 2
}
