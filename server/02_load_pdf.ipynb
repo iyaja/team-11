{
 "cells": [
  {
   "cell_type": "code",
   "execution_count": 18,
   "metadata": {},
   "outputs": [],
   "source": [
    "import openai\n",
    "import pymupdf4llm\n",
    "import pymupdf\n",
    "import json\n",
    "from fuzzysearch import find_near_matches\n",
    "from langchain.text_splitter import MarkdownTextSplitter"
   ]
  },
  {
   "cell_type": "code",
   "execution_count": 34,
   "metadata": {},
   "outputs": [],
   "source": [
    "client = openai.Client()"
   ]
  },
  {
   "cell_type": "code",
   "execution_count": 29,
   "metadata": {},
   "outputs": [],
   "source": [
    "page_count = pymupdf.open(\"sample.pdf\").page_count"
   ]
  },
  {
   "cell_type": "code",
   "execution_count": 31,
   "metadata": {},
   "outputs": [],
   "source": [
    "# Step 1: Convert PDF to markdown\n",
    "PAGES_PER_CHUNK = 50\n",
    "doc_chunks = [pymupdf4llm.to_markdown(\"sample.pdf\", pages=range(i, i + PAGES_PER_CHUNK)) for i in range(0, doc.page_count, PAGES_PER_CHUNK)]"
   ]
  },
  {
   "cell_type": "code",
   "execution_count": 32,
   "metadata": {},
   "outputs": [
    {
     "data": {
      "text/plain": [
       "6"
      ]
     },
     "execution_count": 32,
     "metadata": {},
     "output_type": "execute_result"
    }
   ],
   "source": [
    "len(doc_chunks)"
   ]
  },
  {
   "cell_type": "code",
   "execution_count": 33,
   "metadata": {},
   "outputs": [],
   "source": [
    "PROMPT = \"\"\"\n",
    "The following is an Environmental Impact Statement (EIS).\n",
    "\n",
    "Read it carefully and assess the following risk factors that may pose regulatory hurdles for the project:\n",
    "1. Endangered Species\n",
    "2. Tribal Lands\n",
    "3. National Historic Sites\n",
    "\n",
    "Cite and comment on specific text in the document that is most relevant to the risk factors above. Respond with the following format:\n",
    "\n",
    "```json\n",
    "{\n",
    "    \"comments\" : [\n",
    "        {\n",
    "            \"quote\": \"Some exact text from the document\",\n",
    "            \"risk_factor\": \"Which of the above risk factors does this quote relate to?\",\n",
    "            \"comment\": \"Describe how the quoted text could introduce regulatory burden related to the risk factor\",\n",
    "        },\n",
    "        ...\n",
    "    ]\n",
    "}\n",
    "```\n",
    "\n",
    "Return only valid JSON. DO NOT include any other text in your response.\n",
    "\"\"\".strip()"
   ]
  },
  {
   "cell_type": "code",
   "execution_count": 39,
   "metadata": {},
   "outputs": [],
   "source": [
    "def get_comments_for_doc(doc, context):\n",
    "    response = client.chat.completions.create(\n",
    "        model=\"gpt-4o\",\n",
    "        messages=[\n",
    "            {\"role\": \"system\", \"content\": PROMPT},\n",
    "            {\"role\": \"user\", \"content\": doc},\n",
    "        ],\n",
    "        response_format={\"type\": \"json_object\"},\n",
    "    )\n",
    "\n",
    "    response_object = json.loads(response.choices[0].message.content)\n",
    "\n",
    "    comments = []\n",
    "    for c in response_object[\"comments\"]:\n",
    "        quote = c[\"quote\"]\n",
    "        # Perform fuzzy search to find approximate matches\n",
    "        try:\n",
    "            closest_match = find_near_matches(quote, doc, max_l_dist=5)[0]\n",
    "        except IndexError:\n",
    "            continue\n",
    "\n",
    "        comments.append(\n",
    "            {\n",
    "                \"quote\": {\n",
    "                    \"start\": closest_match.start,\n",
    "                    \"end\": closest_match.end,\n",
    "                    \"text\": doc[closest_match.start : closest_match.end],\n",
    "                },\n",
    "                \"comment\": c[\"comment\"],\n",
    "                \"metadata\": {\n",
    "                    \"risk_factor\": c[\"risk_factor\"],\n",
    "                },\n",
    "            }\n",
    "        )\n",
    "\n",
    "    return {\n",
    "        \"markdown\": doc,\n",
    "        \"comments\": comments,\n",
    "    }"
   ]
  },
  {
   "cell_type": "code",
   "execution_count": 43,
   "metadata": {},
   "outputs": [],
   "source": [
    "response_obj = get_comments_for_doc(doc_chunks[1])"
   ]
  },
  {
   "cell_type": "code",
   "execution_count": 44,
   "metadata": {},
   "outputs": [
    {
     "data": {
      "text/plain": [
       "5"
      ]
     },
     "execution_count": 44,
     "metadata": {},
     "output_type": "execute_result"
    }
   ],
   "source": [
    "len(response_obj[\"comments\"])"
   ]
  },
  {
   "cell_type": "code",
   "execution_count": 45,
   "metadata": {},
   "outputs": [
    {
     "data": {
      "text/plain": [
       "138086"
      ]
     },
     "execution_count": 45,
     "metadata": {},
     "output_type": "execute_result"
    }
   ],
   "source": [
    "open(\"sample_comments_2.json\", \"w\").write(json.dumps(response_obj, indent=4))"
   ]
  },
  {
   "cell_type": "markdown",
   "metadata": {},
   "source": [
    "# Construct Markdown Output"
   ]
  },
  {
   "cell_type": "code",
   "execution_count": 103,
   "metadata": {},
   "outputs": [],
   "source": [
    "comments = {\n",
    "    \"markdown\": md_text,\n",
    "    \"comments\": [\n",
    "        {\n",
    "            \"quote\": {\n",
    "                \"start\": start,\n",
    "                \"end\": end,\n",
    "                \"text\": document[start:end],\n",
    "            },\n",
    "            \"comment\": response_object[\"comment\"],\n",
    "            \"metadata\": {\n",
    "                \"risk_factor\": response_object[\"risk_factor\"],\n",
    "            },\n",
    "        }\n",
    "    ],\n",
    "}"
   ]
  },
  {
   "cell_type": "code",
   "execution_count": 105,
   "metadata": {},
   "outputs": [
    {
     "data": {
      "text/plain": [
       "838513"
      ]
     },
     "execution_count": 105,
     "metadata": {},
     "output_type": "execute_result"
    }
   ],
   "source": [
    "open(\"sample_comments.json\", \"w\").write(json.dumps(comments, indent=2))"
   ]
  },
  {
   "cell_type": "markdown",
   "metadata": {},
   "source": [
    "#  Scratch?"
   ]
  },
  {
   "cell_type": "code",
   "execution_count": null,
   "metadata": {},
   "outputs": [],
   "source": [
    "client = openai.Client()\n",
    "response = client.chat.completions.create(\n",
    "  model=\"gpt-4o\",\n",
    "  messages=[\n",
    "    {\"role\": \"system\", \"content\": \"Summarize the provided document\"},\n",
    "    {\"role\": \"user\", \"content\": md_text[:len(md_text)//2]},\n",
    "    ],\n",
    "  max_tokens=512\n",
    ")"
   ]
  },
  {
   "cell_type": "code",
   "execution_count": null,
   "metadata": {},
   "outputs": [],
   "source": [
    "print(response.choices[0].message.content)"
   ]
  },
  {
   "cell_type": "code",
   "execution_count": null,
   "metadata": {},
   "outputs": [],
   "source": [
    "len(md_text)"
   ]
  },
  {
   "cell_type": "code",
   "execution_count": null,
   "metadata": {},
   "outputs": [],
   "source": [
    "print(doc[12].get_text())"
   ]
  },
  {
   "cell_type": "code",
   "execution_count": null,
   "metadata": {},
   "outputs": [],
   "source": [
    "import pymupdf\n",
    "\n",
    "doc = pymupdf.open(\"sample.pdf\")  # open a document\n",
    "\n",
    "for page in doc[:2]:  # iterate the document pages\n",
    "    text = page.get_text()  # get plain text (is in UTF-8)\n",
    "    print(text)"
   ]
  },
  {
   "cell_type": "code",
   "execution_count": null,
   "metadata": {},
   "outputs": [],
   "source": []
  }
 ],
 "metadata": {
  "kernelspec": {
   "display_name": "base",
   "language": "python",
   "name": "python3"
  },
  "language_info": {
   "codemirror_mode": {
    "name": "ipython",
    "version": 3
   },
   "file_extension": ".py",
   "mimetype": "text/x-python",
   "name": "python",
   "nbconvert_exporter": "python",
   "pygments_lexer": "ipython3",
   "version": "3.9.15"
  }
 },
 "nbformat": 4,
 "nbformat_minor": 2
}
