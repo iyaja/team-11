{
 "cells": [
  {
   "cell_type": "code",
   "execution_count": 10,
   "metadata": {},
   "outputs": [],
   "source": [
    "import openai\n",
    "import pymupdf4llm\n",
    "import pymupdf\n",
    "import json\n",
    "from fuzzysearch import find_near_matches\n",
    "from langchain.text_splitter import MarkdownTextSplitter\n",
    "import pandas as pd\n",
    "import openai\n",
    "import json\n",
    "import pymupdf4llm\n",
    "import pymupdf\n",
    "\n",
    "from comments import find_comments_in_doc, get_historic_sites_comments, get_species_comments\n",
    "\n",
    "from tqdm import tqdm"
   ]
  },
  {
   "cell_type": "code",
   "execution_count": 11,
   "metadata": {},
   "outputs": [],
   "source": [
    "PAGES_PER_CHUNK = 50"
   ]
  },
  {
   "cell_type": "code",
   "execution_count": 12,
   "metadata": {},
   "outputs": [],
   "source": [
    "# Load EIS document\n",
    "page_count = pymupdf.open(\"sample.pdf\").page_count\n",
    "full_doc = pymupdf4llm.to_markdown(\"sample.pdf\")\n",
    "doc_chunks = [\n",
    "    pymupdf4llm.to_markdown(\"sample.pdf\", pages=range(i, i + PAGES_PER_CHUNK))\n",
    "    for i in range(0, page_count, PAGES_PER_CHUNK)\n",
    "]"
   ]
  },
  {
   "cell_type": "code",
   "execution_count": 13,
   "metadata": {},
   "outputs": [],
   "source": [
    "# Load context\n",
    "sites = pd.read_excel(\"sources/sites.xlsx\")\n",
    "species = pd.read_csv(\"sources/species.csv\")"
   ]
  },
  {
   "cell_type": "code",
   "execution_count": 14,
   "metadata": {},
   "outputs": [
    {
     "name": "stderr",
     "output_type": "stream",
     "text": [
      "100%|██████████| 6/6 [02:53<00:00, 28.91s/it]\n"
     ]
    }
   ],
   "source": [
    "final_comments = []\n",
    "for chunk in tqdm(doc_chunks):\n",
    "    site_comments = get_historic_sites_comments(chunk, sites)\n",
    "    species_comments = get_species_comments(chunk, species)\n",
    "    final_comments.extend(site_comments['comments'] + species_comments['comments'])"
   ]
  },
  {
   "cell_type": "code",
   "execution_count": 15,
   "metadata": {},
   "outputs": [
    {
     "data": {
      "text/plain": [
       "28"
      ]
     },
     "execution_count": 15,
     "metadata": {},
     "output_type": "execute_result"
    }
   ],
   "source": [
    "len(final_comments)"
   ]
  },
  {
   "cell_type": "code",
   "execution_count": 16,
   "metadata": {},
   "outputs": [],
   "source": [
    "found_comments = find_comments_in_doc(full_doc, final_comments)"
   ]
  },
  {
   "cell_type": "code",
   "execution_count": 17,
   "metadata": {},
   "outputs": [
    {
     "data": {
      "text/plain": [
       "18"
      ]
     },
     "execution_count": 17,
     "metadata": {},
     "output_type": "execute_result"
    }
   ],
   "source": [
    "len(found_comments)"
   ]
  },
  {
   "cell_type": "code",
   "execution_count": 19,
   "metadata": {},
   "outputs": [],
   "source": [
    "output = {\"markdown\": full_doc, \"comments\": found_comments}\n",
    "with open(\"final_1.json\", \"w\") as f:\n",
    "    f.write(json.dumps(output, indent=4))"
   ]
  },
  {
   "cell_type": "code",
   "execution_count": null,
   "metadata": {},
   "outputs": [],
   "source": []
  }
 ],
 "metadata": {
  "kernelspec": {
   "display_name": "base",
   "language": "python",
   "name": "python3"
  },
  "language_info": {
   "codemirror_mode": {
    "name": "ipython",
    "version": 3
   },
   "file_extension": ".py",
   "mimetype": "text/x-python",
   "name": "python",
   "nbconvert_exporter": "python",
   "pygments_lexer": "ipython3",
   "version": "3.9.15"
  }
 },
 "nbformat": 4,
 "nbformat_minor": 2
}
