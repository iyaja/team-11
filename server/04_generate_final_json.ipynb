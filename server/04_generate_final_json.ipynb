{
 "cells": [
  {
   "cell_type": "code",
   "execution_count": 14,
   "metadata": {},
   "outputs": [],
   "source": [
    "import openai\n",
    "import pymupdf4llm\n",
    "import pymupdf\n",
    "import json\n",
    "from fuzzysearch import find_near_matches\n",
    "from langchain.text_splitter import MarkdownTextSplitter\n",
    "import pandas as pd\n",
    "import openai\n",
    "import json\n",
    "import pymupdf4llm\n",
    "import pymupdf\n",
    "\n",
    "from comments import (\n",
    "    find_comments_in_doc,\n",
    "    get_historic_sites_comments,\n",
    "    get_species_comments,\n",
    "    get_litigation_comments,\n",
    ")\n",
    "\n",
    "from tqdm import tqdm"
   ]
  },
  {
   "cell_type": "code",
   "execution_count": 2,
   "metadata": {},
   "outputs": [],
   "source": [
    "PAGES_PER_CHUNK = 50"
   ]
  },
  {
   "cell_type": "code",
   "execution_count": 3,
   "metadata": {},
   "outputs": [],
   "source": [
    "# Load EIS document\n",
    "page_count = pymupdf.open(\"sample.pdf\").page_count\n",
    "full_doc = pymupdf4llm.to_markdown(\"sample.pdf\")\n",
    "doc_chunks = [\n",
    "    pymupdf4llm.to_markdown(\"sample.pdf\", pages=range(i, i + PAGES_PER_CHUNK))\n",
    "    for i in range(0, page_count, PAGES_PER_CHUNK)\n",
    "]"
   ]
  },
  {
   "cell_type": "code",
   "execution_count": 4,
   "metadata": {},
   "outputs": [],
   "source": [
    "# Load context\n",
    "sites = pd.read_excel(\"sources/sites.xlsx\")\n",
    "species = pd.read_csv(\"sources/species.csv\")\n",
    "litigations = json.load(open(\"sources/litigation.json\"))"
   ]
  },
  {
   "cell_type": "code",
   "execution_count": 19,
   "metadata": {},
   "outputs": [
    {
     "name": "stderr",
     "output_type": "stream",
     "text": [
      "  0%|          | 0/6 [00:00<?, ?it/s]"
     ]
    },
    {
     "name": "stderr",
     "output_type": "stream",
     "text": [
      "100%|██████████| 6/6 [03:34<00:00, 35.82s/it]\n"
     ]
    }
   ],
   "source": [
    "final_comments = []\n",
    "for chunk in tqdm(doc_chunks):\n",
    "    site_comments = get_historic_sites_comments(chunk, sites)\n",
    "    species_comments = get_species_comments(chunk, species)\n",
    "    litigation_comments = get_litigation_comments(chunk, litigations)\n",
    "    chunk_comments = (\n",
    "        litigation_comments[\"comments\"]\n",
    "        + site_comments[\"comments\"]\n",
    "        + species_comments[\"comments\"]\n",
    "    )\n",
    "    final_comments.extend(chunk_comments)"
   ]
  },
  {
   "cell_type": "code",
   "execution_count": 20,
   "metadata": {},
   "outputs": [
    {
     "data": {
      "text/plain": [
       "[{'quote': {'start': 23557,\n",
       "   'end': 23735,\n",
       "   'text': 'In a separate process, Indian Tribes have also\\nbeen invited to participate specifically in the NEPA review and under Section 106 of the National Historic\\nPreservation Act (NHPA).'},\n",
       "  'comment': 'The document mentions compliance with Section 106 of the National Historic Preservation Act. This indicates that the project team is aware of and attempting to meet regulatory requirements for historic and cultural resource preservation. The developer should ensure full compliance with Section 106, including thorough consultations, documentation, and mitigation strategies for any adverse effects identified.'},\n",
       " {'quote': {'start': 23737,\n",
       "   'end': 24036,\n",
       "   'text': 'The BLM is conducting on-going government-to-government consultation with Bridgeport Indian Colony,\\nFallon Paiute-Shoshone Tribe, Pyramid Lake Paiute Tribe, Reno-Sparks Indian Colony, Walker River Paiute\\nTribe, Washoe Tribe of Nevada and California, Yerington Paiute Tribe, and Yomba Shoshone Tribe.'},\n",
       "  'comment': 'The document indicates active and ongoing consultation with several tribes, which is a positive step in aligning with NHPA requirements. The developer should ensure these consultations are documented and that any concerns raised by the tribes are addressed adequately. This might include redesigning certain aspects of the project to avoid significant cultural sites or incorporate tribal input into mitigation measures.'},\n",
       " {'quote': {'start': 25841,\n",
       "   'end': 26108,\n",
       "   'text': 'The BLM initiated Section 106 consultation\\nwith the Nevada State Historic Preservation Office (SHPO) and the Advisory Council of Historic Preservation\\n(ACHP) on April 14, 2022. This Section 106 consultation process is integrated with the NEPA process for the\\nProject;'},\n",
       "  'comment': \"The initiation of Section 106 consultation with SHPO and ACHP reflects adherence to regulatory requirements. However, the developer must continue these consultations throughout the project's lifecycle and obtain necessary feedback and concurrence. Failure to do so could result in regulatory delays or legal challenges.\"},\n",
       " {'quote': {'start': 24586,\n",
       "   'end': 24759,\n",
       "   'text': 'The Moapa Band of Paiutes provided scoping comments on topics such as biological resources,\\nvegetation removal, viewshed analyses, Project water use, and cultural resources.'},\n",
       "  'comment': 'The inclusion of tribal scoping comments highlights the importance of considering tribal feedback in the EIS. The developer should address each area of concern raised by the Moapa Band of Paiutes, particularly on cultural resources, to mitigate any potential adverse effects and avoid conflicts that could lead to project delays or legal issues.'},\n",
       " {'quote': {'start': 30013,\n",
       "   'end': 30440,\n",
       "   'text': 'The USFWS raised concerns regarding yellow-billed cuckoo, a federally listed endangered species. This species has not been documented in or near the Project area during recent surveys, nor in the past. The species could, theoretically, migrate along the Walker River corridor. A single crossing of the gen-tie occurs over the Walker River. As such, this species is addressed in the Draft EIS to identify the means of avoidance.'},\n",
       "  'comment': 'This quote indicates a concern regarding potential impacts to the yellow-billed cuckoo, a federally listed endangered species. The developer should consider undertaking a thorough Biological Assessment to comply with the Endangered Species Act, Section 7 consultation requirements. Additional mitigation measures should be developed to avoid and minimize impacts, especially during migration seasons. Coordination with USFWS for any required permits and further guidance would be necessary.'},\n",
       " {'quote': {'start': 29256,\n",
       "   'end': 30012,\n",
       "   'text': 'Several commenters raised questions about potential impacts to Bi-State sage grouse, a special status species under consideration for listing as endangered or threatened under the Endangered Species Act (ESA). The Project site does not support suitable habitat for Bi-State sage-grouse and it is not located within any mapped habitat identified in the 2016 Record of Decision and Land Use Plan Amendment for the Nevada and California Greater Sage Grouse Bi-State Distinct Population Segment in the Carson City and Tonopah Field Office (2016 Bi-State Sage Grouse Plan Amendment) (BLM 2016). This species is addressed in the Draft EIS, given questions and concerns, despite it not being present nor having any potential to be directly or indirectly affected.'},\n",
       "  'comment': 'Even though the Bi-State sage grouse is not present in the project area, the fact that it is under consideration for protection suggests that monitoring and additional assessments may be prudent. The developer should analyze the potential indirect impacts thoroughly and prepare a contingency plan for future developments in case the species gets listed under the ESA.'},\n",
       " {'quote': {'start': 28684,\n",
       "   'end': 28897,\n",
       "   'text': 'Invasive species can be spread by off-road vehicles and contaminate formerly weed-free areas. Commenters raised questions about weed control and integrated weed management planning, given the scale of disturbance.'},\n",
       "  'comment': 'The introduction and spread of invasive species is a significant environmental concern. The developer needs to create a robust Integrated Weed Management Plan, which includes preventive measures, timely monitoring, and eradication efforts consistent with the guidance from Appendix B. Cross-reference with other invasive species listed in the table to ensure comprehensive coverage.'},\n",
       " {'quote': {'start': 92653,\n",
       "   'end': 93017,\n",
       "   'text': 'The objective of Project decommissioning and reclamation is to remove the installed power generation\\nequipment and to encourage revegetation of native species, as feasible. The Applicant would be required to post\\na reclamation bond as a condition of the ROW authorization issuance in order to ensure the availability of funds\\nfor site decommission and reclamation.'},\n",
       "  'comment': 'This relates to the case Snider v. Biden (https://climatecasechart.com/case/snider-v-biden/), where challenges were raised against executive orders on climate change. Here, the imposition of a reclamation bond ensures financial responsibility for environmental restoration, similar to how federal climate change orders enforce accountability. Although not a direct connection, the principle of assured funding and legal accountability for environmental actions is a common theme.'},\n",
       " {'quote': {'start': 93815,\n",
       "   'end': 94019,\n",
       "   'text': 'The Decommissioning and Site Reclamation Plan would discuss all currently applicable laws,\\nordinances, regulations, and standards associated with the reuse, safe storage, or disposal of Project materials.'},\n",
       "  'comment': 'This section is similar to the issues in Desert Protection Society v. Haaland (https://climatecasechart.com/case/desert-protection-society-v-haaland/), where the environmental review in connection with a right-of-way for infrastructure was challenged. The importance of adhering to all relevant laws, ordinances, and regulations for decommissioning and reclamation plans is echoed in both scenarios.'},\n",
       " {'quote': {'start': 94168,\n",
       "   'end': 94408,\n",
       "   'text': 'Decommissioning requires approximately one-third of the workforce, time,\\nand resources as construction of the Project; therefore, it would be expected to occur over six months and\\nrequire the support of approximately 150 workers on average.'},\n",
       "  'comment': 'The analysis of workforce, time, and resources for decommissioning mirrors considerations in American Petroleum Institute v. Department of the Interior (https://climatecasechart.com/case/american-petroleum-institute-v-department-of-the-interior/) which revolves around approving national environmental programs that potentially impact workforce and resources usage in fossil fuel sectors. Examining labor and resource management is a pivotal aspect in both litigation and EIS documents.'},\n",
       " {'quote': {'start': 94590,\n",
       "   'end': 94786,\n",
       "   'text': 'Under the No Action alternative, the BLM would not authorize a ROW grant for the Project. No solar site,\\nsubstation, gen-tie line, O&M facilities, or other Project components would be constructed.'},\n",
       "  'comment': \"This aligns with Friends of the Earth v. Granholm (https://climatecasechart.com/case/friends-of-the-earth-v-granholm/), which challenges the environmental review and funding for a nuclear power plant. The principle of evaluating a 'No Action' alternative and its potential avoidance of environmental impacts is shared across both contexts.\"},\n",
       " {'quote': {'start': 205505,\n",
       "   'end': 206024,\n",
       "   'text': 'Under Section 106 of the National Historic Preservation Act, compliance with NEPA necessitates a\\nthorough assessment of potential impacts on cultural resources, including consultation with relevant\\nparties to identify and mitigate adverse effects on historic properties. The BLM has chosen to fulfill its\\nobligations under Section 106 of the NHPA for the Project by using the process outlined in 36 CFR\\nsection 800.8(c), known as \"Substitution,\" rather than the traditional Section 106 review process, for this\\nProject.'},\n",
       "  'comment': 'This quote delineates compliance with Section 106 of the NHPA, suggesting that the correct process is being followed. However, the substitution process, while legal, has its critics who argue it can undermine the thoroughness of review. The developer should ensure meticulous documentation and extensive consultations to mitigate potential criticisms or legal challenges.'},\n",
       " {'quote': {'start': 206498,\n",
       "   'end': 206622,\n",
       "   'text': 'The BLM sent\\nnotification of its intent to use Substitution to the SHPO, ACHP, and Native American Tribes on April\\n14, 2023.'},\n",
       "  'comment': 'This indicates that SHPOs and other relevant parties were notified, which is necessary for compliance. However, it is crucial to ensure that these parties not only receive notifications but are also actively engaged throughout the process. Regular updates and documentation of consultations can provide additional layers of security against claims of inadequate stakeholder engagement.'},\n",
       " {'quote': {'start': 396, 'end': 404, 'text': 'on Count'},\n",
       "  'comment': 'The EIS document provided does not mention any specific endangered species from the provided list. To ensure compliance with environmental regulations, the developer should conduct a comprehensive review of the endangered species list and local wildlife studies to determine whether any endangered species might be impacted. If any are found, they should be flagged for section 7 consultation under the Endangered Species Act and a Biological Assessment should be conducted to assess the potential impacts of the proposed development on these species.'},\n",
       " {'quote': {'start': 229801,\n",
       "   'end': 230132,\n",
       "   'text': 'Project construction and O&M would result in an adverse physical effect to one of the historic period and\\nbuilt environment historic properties, Reese River Wagon Road (26LY3165), due to the proposed\\nwidening and surfacing work on the road that would modernize the road and thus alter a defining\\ncomponent of the historic property.'},\n",
       "  'comment': \"This relates to the case 'Alliance for the Wild Rockies v. US Forest Service', where logging and road construction activities were challenged due to their environmental impacts. The similarity lies in the adverse effects on historic properties due to modern alterations, which could lead to further regulatory scrutiny and potential litigation.\"},\n",
       " {'quote': {'start': 236372,\n",
       "   'end': 236516,\n",
       "   'text': 'MM CR-2 identifies the mitigation for reducing adverse visual effects to the integrity of setting for the six\\nNRHP-eligible historic properties.'},\n",
       "  'comment': \"This is relevant to 'Standing Trees, Inc. v. US Forest Service', where the action sought to enjoin logging and road construction due to their impacts on cultural and environmental resources. Both involve mitigation measures to reduce adverse effects on historical and cultural settings.\"},\n",
       " {'quote': {'start': 231558,\n",
       "   'end': 231801,\n",
       "   'text': 'The Applicant would comply with the Solar PEIS PDFs CR1-1 and\\nCR1-2, which require coordination with the BLM to minimize physical impacts to NRHP-eligible\\nresources, including consultation with other federal, tribal, state, and local agencies.'},\n",
       "  'comment': \"This aligns with the case 'Friends of the Earth v. Granholm', which contested the environmental review process for federal projects. Compliance with procedural safeguards like consultation with multiple agencies is a shared theme between this EIS and the cited case, ensuring comprehensive environmental impact evaluations.\"},\n",
       " {'quote': {'start': 235435,\n",
       "   'end': 235575,\n",
       "   'text': 't’s gen-tie would be built over these sites, changing the\\nvisual context and character of the sites by adding a new, visible modern element.'},\n",
       "  'comment': \"This is comparable to 'Sierra Club v. Federal Energy Regulatory Commission', which challenged the authorization of infrastructure projects due to their impacts on environmental settings. Both highlight the introduction of modern elements altering historical contexts.\"},\n",
       " {'quote': {'start': 256196,\n",
       "   'end': 256367,\n",
       "   'text': 'The Walker River and Mason Valley WMA areas are within a State of Nevada hunting unit that\\nwas also expressed to be of importance to the Tribes for antelope and mule deer.'},\n",
       "  'comment': \"Relevant to 'Sierra Club v. Tennessee Valley Authority', where the focus was on how development projects impact local wildlife and public land use. This EIS also notes the importance of project areas to local wildlife and traditional hunting practices.\"},\n",
       " {'quote': {'start': 253288,\n",
       "   'end': 253510,\n",
       "   'text': 'Botanical Resources (Medicine).** Less serious illness was formerly treated with home remedies made\\nfrom over one hundred species of plants. Regional plants still provide a source of home remedies and\\ntraditional medicine.'},\n",
       "  'comment': \"Echoes concerns in 'National Wildlife Refuge Association v. Rural Utilities Service' about development projects potentially harming local flora used for traditional medicine, thus involving considerations of broader impacts on regional biodiversity and cultural practices.\"},\n",
       " {'quote': {'start': 229809,\n",
       "   'end': 230132,\n",
       "   'text': 'construction and O&M would result in an adverse physical effect to one of the historic period and\\nbuilt environment historic properties, Reese River Wagon Road (26LY3165), due to the proposed\\nwidening and surfacing work on the road that would modernize the road and thus alter a defining\\ncomponent of the historic property.'},\n",
       "  'comment': 'The proposed construction activities entail physical changes to the Reese River Wagon Road, which could compromise its historical integrity. This raises a regulatory risk under Section 106 of the National Historic Preservation Act (NHPA), as it potentially constitutes an adverse effect on a property listed on the National Register of Historic Places (NRHP). To mitigate this risk, developers should ensure careful documentation of the existing state of the road and may need to consider alternative construction methods or materials that preserve more of its historic features.'},\n",
       " {'quote': {'start': 230800,\n",
       "   'end': 231086,\n",
       "   'text': 'Potential adverse physical effects on known or previously undiscovered cultural resources could occur\\nfrom theft or vandalism during construction and O&M. Construction would likely deter the normal\\nrecreational activity by the general public that currently occurs in the Project area; h'},\n",
       "  'comment': 'There is a risk of adverse effects on cultural resources through theft or vandalism, especially during construction and O&M phases. The mention of these risks reflects a need for heightened security measures and possibly restricting access to sensitive areas. Implementing tighter security protocols and monitoring could mitigate these risks.'},\n",
       " {'quote': {'start': 233459,\n",
       "   'end': 233723,\n",
       "   'text': 'six historic properties are\\nconsidered in the VAA impact analysis. These historic period and built environment resources are visible\\nwithin 5 miles of the Project site and the integrity of the historic setting is a key component of the\\nresources’ NRHP-eligibility.'},\n",
       "  'comment': 'Visual impacts affecting the integrity of the historic setting for six historic properties raise concerns under Section 106 as visual intrusions can be considered adverse effects. Developers need to carefully design and position project elements to minimize visibility from these historic properties. This could involve strategic placement of infrastructure, use of natural or artificial screening methods, and other design alterations.'},\n",
       " {'quote': {'start': 231558,\n",
       "   'end': 231801,\n",
       "   'text': 'The Applicant would comply with the Solar PEIS PDFs CR1-1 and\\nCR1-2, which require coordination with the BLM to minimize physical impacts to NRHP-eligible\\nresources, including consultation with other federal, tribal, state, and local agencies.'},\n",
       "  'comment': 'Coordination with federal, tribal, state, and local agencies to minimize physical impacts is crucial. This implies the need for robust, ongoing communication and possibly the development of an Advisory Council on Historic Preservation (ACHP) programmatic agreement. Developers should ensure that such consultations are well-documented and that feedback from these agencies is incorporated into the project plans to mitigate risks effectively.'},\n",
       " {'quote': {'start': 414986,\n",
       "   'end': 415090,\n",
       "   'text': 'Groundwater under the solar site is\\nalso expected to be several hundred feet below ground surface (bgs).'},\n",
       "  'comment': \"This section discusses groundwater levels and their potential impacts due to the proposed project. This is similar to the issues raised in multiple litigations, such as 'National Wildlife Refuge Association v. Rural Utilities Service' (https://climatecasechart.com/case/national-wildlife-refuge-association-v-rural-utilities-service-2/), where the impact on groundwater resources was a primary concern.\"},\n",
       " {'quote': {'start': 431642,\n",
       "   'end': 431895,\n",
       "   'text': 'The gen-tie’s access roads would be approximately 20 feet wide and covered with an\\naggregate substrate where needed. Development of gen-tie access roads would result in approximately 64\\nacres of vegetation removal but would largely follow land contours.'},\n",
       "  'comment': \"Similar to 'Friends of the Earth v. Granholm' (https://climatecasechart.com/case/friends-of-the-earth-v-granholm/), the environmental impact due to land use changes such as vegetation removal and the construction impact is a notable concern. Such changes in land use are often challenged for their environmental reviews and the adequacy of mitigation measures.\"},\n",
       " {'quote': {'start': 501070,\n",
       "   'end': 501266,\n",
       "   'text': 'The Project’s construction (and O&M)\\nwould still result in the loss of 218 AUMs and forage, but with mitigation, the loss would not make\\nlivestock production uneconomical for the grazing operator.'},\n",
       "  'comment': \"In 'Standing Trees, Inc. v. U.S. Forest Service' (https://climatecasechart.com/case/standing-trees-inc-v-us-forest-service/), the economic impact on local industries due to land use changes (like grazing areas being repurposed) was a significant issue, comparable to the impact on grazing discussed here.\"},\n",
       " {'quote': {'start': 438018,\n",
       "   'end': 438246,\n",
       "   'text': 'If the Applicant acquires water\\nrights in Mason Valley, the review and approval process to grant the Applicant use of existing water\\nrights in the Mason Valley Hydrographic Unit would ensure that no adverse effects would result.'},\n",
       "  'comment': \"This relates to 'Iowa v. Council on Environmental Quality' (https://climatecasechart.com/case/iowa-v-council-on-environmental-quality/), where the process and regulations surrounding the acquisition and use of water rights were under scrutiny. The adequacy of NEPA regulations ensuring no adverse effects is mirrored in this project's requirements.\"},\n",
       " {'quote': {'start': 535871,\n",
       "   'end': 536011,\n",
       "   'text': 'The Project would contribute to an increase in access roads and\\ntransmission infrastructure but would not displace or divert migrating game.'},\n",
       "  'comment': \"This situation is reminiscent of the case 'National Wildlife Refuge Association v. Rural Utilities Service', which also involved an increase in access roads and transmission infrastructure within a protected area (here, the Upper Mississippi River National Wildlife and Fish Refuge). In both scenarios, concerns arose over potential impacts on local wildlife habitats, suggesting that regulatory scrutiny might be needed to address cumulative effects on ecosystems.\"},\n",
       " {'quote': {'start': 545179,\n",
       "   'end': 545281,\n",
       "   'text': 'The Project solar site diminishes from view as\\nthe canyon is traversed before reaching Black Mountain.'},\n",
       "  'comment': \"The visual impact considerations here are somewhat akin to those in 'County of Cape May v. United States', a case that discussed the visual effects of offshore wind farms on coastal scenery. While the settings differ, both instances require careful analysis through Visual Resource Management (VRM) to ensure that significant visual impacts are mitigated.\"},\n",
       " {'quote': {'start': 604980,\n",
       "   'end': 605212,\n",
       "   'text': 'The BLM may implement fire restrictions during Project construction\\nto reduce the risk of human-caused fires during periods of high fire danger; however, fire risks are low in\\nthe Project area due to limited fuel (i.e., vegetation).'},\n",
       "  'comment': \"Fire risk management is similarly discussed in 'Healthy Gulf v. Federal Energy Regulatory Commission', where concerns were raised about fire hazards due to new infrastructure. The necessity for a Fire Prevention and Safety Plan in both projects highlights the regulatory focus on minimizing fire-related risks.\"},\n",
       " {'quote': {'start': 536285,\n",
       "   'end': 536362,\n",
       "   'text': 'Avoided drainages as part of Alternative 1 may\\nprovide additional OHV access.'},\n",
       "  'comment': \"Similar to 'Alliance for the Wild Rockies v. U.S. Forest Service', access and recreational use disruptions due to environmental management activities were contested. Ensuring that additional OHV access is well-managed would be critical to avoid legal challenges.\"},\n",
       " {'quote': {'start': 645100,\n",
       "   'end': 645476,\n",
       "   'text': 'Due to the extensive intervening distance and topography between\\nthe Schurz and the Project area, which are in different air basins, disproportionate effects would not\\noccur. EJ communities of concern were also identified within Census Tract 9609.02, in the Wabuska CDP\\njust north of Yerington, approximately 8.4 miles north of the solar site, and within Census Tract 9608.01.'},\n",
       "  'comment': 'While the analysis concludes that disproportionate effects are unlikely due to distance and topography, the presence of EJ communities should encourage a closer examination under a Section 7 consultation to ensure that any potential effects on both welfare and wildlife, such as an impact on federally listed species, are thoroughly evaluated.'},\n",
       " {'quote': {'start': 646841,\n",
       "   'end': 647121,\n",
       "   'text': 'EJ communities of concern\\nidentified in or near the city of Yerington; Schurz CDP; Wabuska CDP, Fallon CDP, Silver Springs CDP,\\nand Stagecoach CDP could experience disproportionate adverse impacts related to temporary\\nconstruction-generated traffic along US 95, US 95A, and US 50.'},\n",
       "  'comment': 'Despite the mitigating measures proposed, the inclusion of EJ communities located near major traffic routes necessitates additional scrutiny and possibly a Biological Assessment (BA) to consider whether sensitive species can be affected through habitat fragmentation, roadkill, or other indirect disruptions.'},\n",
       " {'quote': {'start': 644897,\n",
       "   'end': 645099,\n",
       "   'text': 'Fugitive dust generated during construction is not anticipated to\\naffect the Schurz CDP community, which could otherwise be more vulnerable given health conditions\\nmore prevalent in these EJ population.'},\n",
       "  'comment': 'To ensure this conclusion is robust, a BA should be recommended to confirm that fugitive dust does not inadvertently affect listed species in adjacent habitats, necessitating coordination with Fish and Wildlife Services (FWS).'},\n",
       " {'quote': {'start': 643292,\n",
       "   'end': 643541,\n",
       "   'text': 'The Project would alter an area of natural habitat that contains two\\nvegetation types associated with Bailey’s greasewood, the dominant vegetation cover within the Project\\narea. Bailey’s greasewood is less common than other on-site vegetation types,'},\n",
       "  'comment': 'Given that Bailey’s greasewood is a less common habitat type, the potential presence of rare or endangered species associated with these areas should be investigated thoroughly through a BA.'},\n",
       " {'quote': {'start': 644096,\n",
       "   'end': 644305,\n",
       "   'text': 'During Class III surveys, few pre-historic and Paleoindian archaeological sites\\nwere found. Solar array blocks and other components were removed from the design in the area of these\\nresources to avoid impacts '},\n",
       "  'comment': 'Though the archaeological impacts are mitigated, it remains necessary to ensure that no associated ecological impacts on habitats of endangered species occur, requiring a comprehensive Section 7 consultation.'},\n",
       " {'quote': {'start': 647164,\n",
       "   'end': 647568,\n",
       "   'text': 'communities of concern within Census Tract 9708; Census Tract 9608.01; and Census Tract 9609.02; as\\nwell as Yerington within Census Tract 9609.01 may also experience disproportionate impacts from\\nconstruction-generated traffic (along with noise and dust impacts in proximity to the solar site). These EJ\\ncommunities of concern may be particularly vulnerable to the impact due to proximity to the roadway.'},\n",
       "  'comment': 'This section mirrors the issues raised in several litigations concerning environmental justice (EJ) communities, particularly their exposure to heightened risks due to development activities. For instance, the case of National Wildlife Refuge Association v. Rural Utilities Service (https://climatecasechart.com/case/national-wildlife-refuge-association-v-rural-utilities-service-2/) challenges federal actions that would facilitate the development of high-voltage transmission lines through sensitive regions. Similarly, in County of Cape May v. United States (https://climatecasechart.com/case/county-of-cape-may-v-united-states/), there is a challenge regarding the approval of a significant offshore wind farm due to potential localized environmental impacts. Both cases underscore the importance of thoroughly assessing impacts on EJ communities, a significant consideration mentioned here for the proposed solar project.'},\n",
       " {'quote': {'start': 648020,\n",
       "   'end': 648246,\n",
       "   'text': 'Potential disproportionate and adverse impacts\\ninclude increased commute times from traffic delays, wear and tear on local roads, and increased service\\nratios at gas stations, food establishments, or other community resources.'},\n",
       "  'comment': 'This consideration of disproportionate impacts due to traffic delays and infrastructure usage aligns with the environmental and socioeconomic concerns raised in litigation like Sierra Club v. Tennessee Valley Authority (https://climatecasechart.com/case/sierra-club-v-tennessee-valley-authority/) where there was a challenge to the decision to build a natural gas-fired power plant due to its environmental and community impacts, emphasizing the need to address potential adverse effects comprehensively.'},\n",
       " {'quote': {'start': 650580,\n",
       "   'end': 651004,\n",
       "   'text': 'The influx of workers is anticipated to be similar to that for the construction phase and\\nwould not result in disproportionate adverse effects to EJ communities of concern due to the short\\nduration (less than 2 years) of decommissioning activities; however, localized pressure on short-term\\nrental housing would be greater in Yerington and the immediate vicinity, where some of the EJ\\ncommunities of concern were identified.'},\n",
       "  'comment': 'Concerns about workforce influx and housing impacts recall the issues in litigations such as American Petroleum Institute v. Department of the Interior (https://climatecasechart.com/case/american-petroleum-institute-v-department-of-the-interior/), where large-scale projects have raised similar issues about local housing pressures and economic impacts, thereby necessitating adequate measures to mitigate adverse effects on nearby communities during project commissioning and decommissioning.'},\n",
       " {'quote': {'start': 652456,\n",
       "   'end': 652629,\n",
       "   'text': 'Cumulative impacts to EJ communities could occur within the analysis area from construction or O&M\\nschedule overlaps that would require a large workforce to be accommodated.'},\n",
       "  'comment': 'This statement reflects cumulative impact considerations akin to those in cases like Sierra Club v. Federal Energy Regulatory Commission (https://climatecasechart.com/case/sierra-club-v-federal-energy-regulatory-commission-8/), highlighting how overlapping schedules of large infrastructure projects can exacerbate impacts on EJ communities, necessitating detailed cumulative impact assessments.'},\n",
       " {'quote': {'start': 652793,\n",
       "   'end': 653046,\n",
       "   'text': 'The Pumpkin Hollow Copper Mine Expansion is not expected to start\\nconstruction until after mid-2026, following the construction phase of the Project. Other solar facilities\\nand transmission projects have been proposed in the region and are under review.'},\n",
       "  'comment': 'The sequencing and planning of multiple projects in the same region to minimize cumulative impacts is a critical factor in ensuring compliance with NEPA as observed in cases like Falkirk Mining Co. v. U.S. Department of the Interior (https://climatecasechart.com/case/falkirk-mining-co-v-us-department-of-the-interior/), which involves demands for completed environmental reviews to avoid unforeseen cumulative impacts.'},\n",
       " {'quote': {'start': 649725,\n",
       "   'end': 650019,\n",
       "   'text': 'The Project would maintain access along Old State Road 2C through the solar\\nsite, which could be utilized to access the Pistone-Black Mountain NCA, a site of cultural importance to\\nTribes in the region, including the Walker Paiute Tribe; however, the terrain is too rough to access via\\nvehicle.'},\n",
       "  'comment': 'The mention of the Pistone-Black Mountain NCA indicates a site of cultural importance. The developer might need to collaborate closely with the Walker Paiute Tribe to ensure that access remains viable and that the site is protected from any indirect impacts caused by the project. This includes engaging SHPOs and potentially THPOs to evaluate and mitigate any cultural impacts.'},\n",
       " {'quote': {'start': 749517,\n",
       "   'end': 749869,\n",
       "   'text': 'Section 106 of the NHPA (54 USC § 306108), and its implementing regulations at 36 CFR 800, requires\\nfederal agencies to consider the effects of proposed projects (undertakings) on any historic properties, and\\nto provide the ACHP and opportunity to comment. The BLM initiated Section 106 consultation with the\\nACHP and the Nevada SHPO on April 14, 2023.'},\n",
       "  'comment': 'This section confirms that Section 106 consultation was initiated correctly. The developer needs to ensure continuous compliance with the requirements of Section 106, including proper documentation and mitigation measures as recommended by the Nevada SHPO and potentially affected tribes.'},\n",
       " {'quote': {'start': 748682,\n",
       "   'end': 749051,\n",
       "   'text': 'On June 26, 2023, and July 12, 2023, the BLM hosted virtual tribal meetings to present the Project, show\\nmaps of the Project facilities, and provide an overview of key resource findings based on the completed\\ntechnical studies. Representatives from the Walker River Paiute Tribe, Reno-Sparks Indian Colony, and\\nFallon Paiute Shoshone Tribe participated in the meetings.'},\n",
       "  'comment': 'This quote indicates that tribal consultations have taken place, which is a positive step in addressing potential cultural impacts. The developer should ensure these consultations are ongoing and continue throughout the project lifecycle to incorporate any emerging concerns and recommendations from the tribes.'}]"
      ]
     },
     "execution_count": 20,
     "metadata": {},
     "output_type": "execute_result"
    }
   ],
   "source": [
    "found_comments = find_comments_in_doc(full_doc, final_comments)\n",
    "found_comments"
   ]
  },
  {
   "cell_type": "code",
   "execution_count": 21,
   "metadata": {},
   "outputs": [
    {
     "data": {
      "text/plain": [
       "(60, 45)"
      ]
     },
     "execution_count": 21,
     "metadata": {},
     "output_type": "execute_result"
    }
   ],
   "source": [
    "len(final_comments), len(found_comments)"
   ]
  },
  {
   "cell_type": "code",
   "execution_count": null,
   "metadata": {},
   "outputs": [],
   "source": [
    "output = {\"markdown\": full_doc, \"comments\": found_comments}\n",
    "with open(\"final_2.json\", \"w\") as f:\n",
    "    f.write(json.dumps(output, indent=4))"
   ]
  },
  {
   "cell_type": "code",
   "execution_count": null,
   "metadata": {},
   "outputs": [],
   "source": []
  }
 ],
 "metadata": {
  "kernelspec": {
   "display_name": "base",
   "language": "python",
   "name": "python3"
  },
  "language_info": {
   "codemirror_mode": {
    "name": "ipython",
    "version": 3
   },
   "file_extension": ".py",
   "mimetype": "text/x-python",
   "name": "python",
   "nbconvert_exporter": "python",
   "pygments_lexer": "ipython3",
   "version": "3.9.15"
  }
 },
 "nbformat": 4,
 "nbformat_minor": 2
}
