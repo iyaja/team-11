{
 "cells": [
  {
   "cell_type": "code",
   "execution_count": 2,
   "metadata": {},
   "outputs": [],
   "source": [
    "import datasets\n",
    "from datasets import load_dataset"
   ]
  },
  {
   "cell_type": "code",
   "execution_count": 3,
   "metadata": {},
   "outputs": [
    {
     "data": {
      "application/vnd.jupyter.widget-view+json": {
       "model_id": "90a9b825883e4fda8f6c2baf62e3f8a0",
       "version_major": 2,
       "version_minor": 0
      },
      "text/plain": [
       "Resolving data files:   0%|          | 0/35 [00:00<?, ?it/s]"
      ]
     },
     "metadata": {},
     "output_type": "display_data"
    },
    {
     "data": {
      "application/vnd.jupyter.widget-view+json": {
       "model_id": "d929c0a0cbc94d2c93a04d0aa5082519",
       "version_major": 2,
       "version_minor": 0
      },
      "text/plain": [
       "Resolving data files:   0%|          | 0/35 [00:00<?, ?it/s]"
      ]
     },
     "metadata": {},
     "output_type": "display_data"
    },
    {
     "data": {
      "application/vnd.jupyter.widget-view+json": {
       "model_id": "ec3c591db4d6444caa885bfe35ef1008",
       "version_major": 2,
       "version_minor": 0
      },
      "text/plain": [
       "Loading dataset shards:   0%|          | 0/22 [00:00<?, ?it/s]"
      ]
     },
     "metadata": {},
     "output_type": "display_data"
    }
   ],
   "source": [
    "data = load_dataset(\"PolicyAI/NEPATEC1.0\", split=\"train\")"
   ]
  },
  {
   "cell_type": "code",
   "execution_count": 5,
   "metadata": {},
   "outputs": [
    {
     "data": {
      "text/plain": [
       "{'Metadata': {'Document Title': '20040348'},\n",
       " 'Pages': [{'Page Number': 1,\n",
       "   'Page Text': 'September 28, 2004 \\n \\nReply To \\nAttn Of: \\nETPA-088 \\n \\nMs. Terri Urbanowski \\n \\n \\n \\n \\n \\n \\n \\n01-038-NPS \\nNational Park Service \\nP.O. Box 25287 \\nDenver, Colorado 80225-0287 \\n \\nDear Ms. Urbanowski: \\n \\nThe U.S. Environmental Protection Agency (EPA) has reviewed the Crater Lake \\nGeneral Management Plan Draft Environmental Impact Statement (DEIS) [ERP # \\nNPS-L61227-OR; CEQ # 040348] in accordance with our responsibilities under the \\nNational Environmental Policy Act and under Section 309 of the Clean Air Act.  \\nThe General Management Plan, which establishes a management philosophy and \\nframework for decision making in the park, is intended to provide guidance during \\na 15 to 20 year period. \\n \\nThe General Management Plan DEIS preferred alternative is Alternative 2, \\nwhich is also identified as the environmentally preferred alternative.  The \\nemphasis of Alternative 2 is on increased opportunities for non-motorized and \\nlow impact recreational diversity, and on research and education.  New \\nopportunities along Rim Drive would allow visitors to directly experience Crater \\nLake in ways other than driving.   \\n \\nWe wish to commend the National Park Service for the environmentally \\nsensitive range of alternatives and for selection of the environmentally preferred \\nalternative. The proposed General Management Plan reflects stewardship of park \\nresources and encourages a stronger human connection with the natural environment. \\n We hope and anticipate that this will serve to foster continued stewardship for \\nfuture generations.  Based on our review, we are rating the DEIS as LO, Lack of \\nObjections.  An explanation of this rating is enclosed. \\n \\nThank you for the opportunity to comment.  If you have any questions, please \\ncontact Elaine Somers of my staff at 206/553-2966. \\n \\nSincerely, \\n \\n \\n \\n',\n",
       "   'Page NER': [{'text': 'September 28 2004',\n",
       "     'label': 'Date',\n",
       "     'score': 0.9376887083053589},\n",
       "    {'text': 'ETPA 088', 'label': 'Title', 'score': 0.11853408813476562},\n",
       "    {'text': 'Ms Terri Urbanowski',\n",
       "     'label': 'Name',\n",
       "     'score': 0.861850917339325},\n",
       "    {'text': 'NPS', 'label': 'Agency', 'score': 0.3285118341445923},\n",
       "    {'text': 'National Park Service',\n",
       "     'label': 'Agency',\n",
       "     'score': 0.34719738364219666},\n",
       "    {'text': 'PO Box 25287',\n",
       "     'label': 'Location',\n",
       "     'score': 0.22456051409244537},\n",
       "    {'text': 'Denver Colorado',\n",
       "     'label': 'Location',\n",
       "     'score': 0.7497173547744751},\n",
       "    {'text': 'Ms Urbanowski', 'label': 'Name', 'score': 0.2918894588947296},\n",
       "    {'text': 'US Environmental Protection Agency',\n",
       "     'label': 'Agency',\n",
       "     'score': 0.8779953122138977},\n",
       "    {'text': 'EPA', 'label': 'Agency', 'score': 0.7804391980171204},\n",
       "    {'text': 'Crater Lake', 'label': 'Location', 'score': 0.9216856956481934},\n",
       "    {'text': 'General Management Plan',\n",
       "     'label': 'Title',\n",
       "     'score': 0.25069230794906616},\n",
       "    {'text': 'DEIS', 'label': 'Title', 'score': 0.2717619836330414},\n",
       "    {'text': 'NPS', 'label': 'Agency', 'score': 0.29458510875701904},\n",
       "    {'text': 'CEQ', 'label': 'Agency', 'score': 0.21335303783416748},\n",
       "    {'text': 'National Environmental Policy Act',\n",
       "     'label': 'Title',\n",
       "     'score': 0.3899902403354645},\n",
       "    {'text': 'General Management Plan',\n",
       "     'label': 'Title',\n",
       "     'score': 0.28128373622894287},\n",
       "    {'text': 'General Management Plan',\n",
       "     'label': 'Title',\n",
       "     'score': 0.1508505940437317},\n",
       "    {'text': 'DEIS', 'label': 'Title', 'score': 0.21187254786491394},\n",
       "    {'text': 'Alternative 2', 'label': 'Title', 'score': 0.6792212724685669},\n",
       "    {'text': 'environmentally preferred alternative',\n",
       "     'label': 'Title',\n",
       "     'score': 0.18506935238838196},\n",
       "    {'text': 'Alternative 2', 'label': 'Title', 'score': 0.711657702922821},\n",
       "    {'text': 'research and education',\n",
       "     'label': 'Title',\n",
       "     'score': 0.15309911966323853},\n",
       "    {'text': 'Rim Drive', 'label': 'Location', 'score': 0.7154587507247925},\n",
       "    {'text': 'Crater', 'label': 'Location', 'score': 0.2405495047569275},\n",
       "    {'text': 'Crater Lake', 'label': 'Location', 'score': 0.9607121348381042},\n",
       "    {'text': 'National Park Service',\n",
       "     'label': 'Agency',\n",
       "     'score': 0.9685232043266296},\n",
       "    {'text': 'DEIS', 'label': 'Agency', 'score': 0.3318421542644501},\n",
       "    {'text': 'LO', 'label': 'Title', 'score': 0.4507342576980591},\n",
       "    {'text': 'Elaine Somers', 'label': 'Name', 'score': 0.9744603633880615},\n",
       "    {'text': '206 553 2966', 'label': 'Date', 'score': 0.18406328558921814}]},\n",
       "  {'Page Number': 2,\n",
       "   'Page Text': '/s/ \\n \\nChristine B. Reichgott, Manager \\nNEPA Review Unit \\n \\nEnclosure \\n \\n \\n \\n',\n",
       "   'Page NER': [{'text': 'Christine B Reichgott',\n",
       "     'label': 'Name',\n",
       "     'score': 0.865664005279541},\n",
       "    {'text': 'Manager', 'label': 'Title', 'score': 0.7065228819847107},\n",
       "    {'text': 'NEPA Review Unit',\n",
       "     'label': 'Location',\n",
       "     'score': 0.36358407139778137},\n",
       "    {'text': 'Enclosure', 'label': 'Location', 'score': 0.3282635807991028}]}]}"
      ]
     },
     "execution_count": 5,
     "metadata": {},
     "output_type": "execute_result"
    }
   ],
   "source": [
    "data[0]['Documents'][0]"
   ]
  },
  {
   "cell_type": "code",
   "execution_count": null,
   "metadata": {},
   "outputs": [],
   "source": []
  }
 ],
 "metadata": {
  "kernelspec": {
   "display_name": "base",
   "language": "python",
   "name": "python3"
  },
  "language_info": {
   "codemirror_mode": {
    "name": "ipython",
    "version": 3
   },
   "file_extension": ".py",
   "mimetype": "text/x-python",
   "name": "python",
   "nbconvert_exporter": "python",
   "pygments_lexer": "ipython3",
   "version": "3.9.15"
  }
 },
 "nbformat": 4,
 "nbformat_minor": 2
}
